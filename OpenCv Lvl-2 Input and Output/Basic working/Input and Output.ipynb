{
 "cells": [
  {
   "cell_type": "code",
   "execution_count": 2,
   "id": "2cf9a50e-f1d3-42de-8887-85c36b78e78e",
   "metadata": {},
   "outputs": [],
   "source": [
    "import cv2"
   ]
  },
  {
   "cell_type": "code",
   "execution_count": 3,
   "id": "5a182941-f23b-4830-aafe-e03a6d25965b",
   "metadata": {},
   "outputs": [],
   "source": [
    "#read image\n",
    "image_path = '1.png'\n",
    "\n",
    "img = cv2.imread(image_path)"
   ]
  },
  {
   "cell_type": "code",
   "execution_count": null,
   "id": "39f06ee9-c803-4c52-9998-24e0d741219a",
   "metadata": {},
   "outputs": [],
   "source": [
    "#write image\n",
    "\n",
    "cv2.imwrite('1.jpg', img)   # Save the current frame or image as '1.jpg'"
   ]
  },
  {
   "cell_type": "code",
   "execution_count": null,
   "id": "21b91002-dc33-4640-b1fc-00b07503ab21",
   "metadata": {},
   "outputs": [],
   "source": [
    "#display Image\n",
    "\n",
    "cv2.imshow(\"Image\", img)    # Display the image in a window titled \"Image\"\n",
    "cv2.waitKey(0)              # Wait indefinitely for a key press before closing the window"
   ]
  },
  {
   "cell_type": "code",
   "execution_count": 5,
   "id": "c0029ddc-5f60-4822-b839-489b9604b13c",
   "metadata": {},
   "outputs": [],
   "source": [
    "import cv2"
   ]
  },
  {
   "cell_type": "code",
   "execution_count": 6,
   "id": "9861c4e1-2305-4160-9789-3532b13d5dac",
   "metadata": {},
   "outputs": [],
   "source": [
    "#read video\n",
    "\n",
    "video_path = '1.mp4'\n",
    "capture = cv2.VideoCapture(video_path)"
   ]
  },
  {
   "cell_type": "code",
   "execution_count": null,
   "id": "70ee0965-029a-42c7-a52f-629a3efab170",
   "metadata": {},
   "outputs": [],
   "source": [
    "#display\n",
    "success = True\n",
    "while success:\n",
    "    success, img = capture.read()    # Read the next frame from the video\n",
    "    cv2.imshow(\"Video\", img)\n",
    "    if cv2.waitKey(42) & 0xFF == ord('q'):   # Break the loop if the 'q' key is pressed\n",
    "        break   # 42 Wait for a short period before showing the next frame\n",
    "\n",
    "capture.release()   # Release the video capture object\n",
    "cv2.destroyAllWindows()"
   ]
  },
  {
   "cell_type": "code",
   "execution_count": 1,
   "id": "d9ca9375-97c4-4d8e-96ab-95814edb5e2e",
   "metadata": {},
   "outputs": [],
   "source": [
    "import cv2"
   ]
  },
  {
   "cell_type": "code",
   "execution_count": null,
   "id": "baa86a07-bd79-4760-9221-215a6597d102",
   "metadata": {},
   "outputs": [],
   "source": [
    "#read webcam\n",
    "\n",
    "capture = cv2.VideoCapture(0)    # Open the default webcam (camera index 0)\n",
    "capture.set(3, 1920)                 # Set the width of the capture frame to 1920 pixels\n",
    "capture.set(4, 1080)                 # Set the height of the capture frame to 1080 pixels"
   ]
  },
  {
   "cell_type": "code",
   "execution_count": 3,
   "id": "db24b4eb-231f-4536-9b14-4af29f7efc63",
   "metadata": {},
   "outputs": [],
   "source": [
    "while True:\n",
    "    success, img = capture.read()            # Read frames from the webcam\n",
    "    cv2.imshow(\"Video\", img)                 # Display the current frame in a window titled \"Video\"\n",
    "    if cv2.waitKey(42) & 0xFF == ord('q'):   # Break the loop if the 'q' key is pressed\n",
    "        break\n",
    "        \n",
    "capture.release()\n",
    "cv2.destroyAllWindows()"
   ]
  },
  {
   "cell_type": "code",
   "execution_count": null,
   "id": "ca3c0232-8906-4acc-94e6-3f41974b548d",
   "metadata": {},
   "outputs": [],
   "source": []
  }
 ],
 "metadata": {
  "kernelspec": {
   "display_name": "Python 3 (ipykernel)",
   "language": "python",
   "name": "python3"
  },
  "language_info": {
   "codemirror_mode": {
    "name": "ipython",
    "version": 3
   },
   "file_extension": ".py",
   "mimetype": "text/x-python",
   "name": "python",
   "nbconvert_exporter": "python",
   "pygments_lexer": "ipython3",
   "version": "3.12.6"
  }
 },
 "nbformat": 4,
 "nbformat_minor": 5
}
