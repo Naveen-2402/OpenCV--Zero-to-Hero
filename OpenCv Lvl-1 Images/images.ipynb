{
 "cells": [
  {
   "cell_type": "code",
   "execution_count": 2,
   "id": "826e7ae6-c734-407a-9a93-ecb78a017d3e",
   "metadata": {},
   "outputs": [],
   "source": [
    "import cv2\n",
    "\n",
    "img = cv2.imread('1.jpg')"
   ]
  },
  {
   "cell_type": "code",
   "execution_count": 7,
   "id": "b7241027-44ec-4ed1-a633-bfc0b2598997",
   "metadata": {},
   "outputs": [
    {
     "data": {
      "text/plain": [
       "numpy.ndarray"
      ]
     },
     "execution_count": 7,
     "metadata": {},
     "output_type": "execute_result"
    }
   ],
   "source": [
    "type(img)   #type of image"
   ]
  },
  {
   "cell_type": "code",
   "execution_count": null,
   "id": "99909e68-72f4-416d-ab2a-e40cbd8820c4",
   "metadata": {},
   "outputs": [],
   "source": [
    "img.shape   # height, width, color channels"
   ]
  },
  {
   "cell_type": "code",
   "execution_count": null,
   "id": "af49f6c2-9b61-4337-bef7-06b09eb74ff3",
   "metadata": {},
   "outputs": [],
   "source": [
    "pixel_value = image[500, 300] # Access the pixel at row & column\n",
    "pixel_value"
   ]
  },
  {
   "cell_type": "code",
   "execution_count": null,
   "id": "69e77ef2-8a40-47b9-87c8-e6b1ccf62291",
   "metadata": {},
   "outputs": [],
   "source": [
    "pixel_value = image[100:105, 100:103] # Access the pixel at row & column\n",
    "pixel_value"
   ]
  },
  {
   "cell_type": "code",
   "execution_count": null,
   "id": "163bc470-aaeb-4030-8c10-c95d0ec07624",
   "metadata": {},
   "outputs": [],
   "source": []
  }
 ],
 "metadata": {
  "kernelspec": {
   "display_name": "Python 3 (ipykernel)",
   "language": "python",
   "name": "python3"
  },
  "language_info": {
   "codemirror_mode": {
    "name": "ipython",
    "version": 3
   },
   "file_extension": ".py",
   "mimetype": "text/x-python",
   "name": "python",
   "nbconvert_exporter": "python",
   "pygments_lexer": "ipython3",
   "version": "3.12.6"
  }
 },
 "nbformat": 4,
 "nbformat_minor": 5
}
