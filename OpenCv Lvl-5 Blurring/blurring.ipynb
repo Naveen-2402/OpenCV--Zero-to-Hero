{
 "cells": [
  {
   "cell_type": "code",
   "execution_count": 1,
   "id": "3168c40b-3641-427d-84d3-bbd879494843",
   "metadata": {},
   "outputs": [],
   "source": [
    "import cv2"
   ]
  },
  {
   "cell_type": "code",
   "execution_count": 2,
   "id": "a09f00d4-939b-4c6a-9c75-a28ec8d78ccc",
   "metadata": {},
   "outputs": [],
   "source": [
    "img = cv2.imread('1.jpg')"
   ]
  },
  {
   "cell_type": "code",
   "execution_count": 3,
   "id": "7cf7081a-6ae7-402a-9bce-b7e044eec81d",
   "metadata": {},
   "outputs": [
    {
     "data": {
      "text/plain": [
       "-1"
      ]
     },
     "execution_count": 3,
     "metadata": {},
     "output_type": "execute_result"
    }
   ],
   "source": [
    "cv2.imshow(\"Image\",img)\n",
    "cv2.waitKey(0)"
   ]
  },
  {
   "cell_type": "code",
   "execution_count": 21,
   "id": "c8431b91-4a2f-48b6-9799-0be2d519a293",
   "metadata": {},
   "outputs": [
    {
     "data": {
      "text/plain": [
       "-1"
      ]
     },
     "execution_count": 21,
     "metadata": {},
     "output_type": "execute_result"
    }
   ],
   "source": [
    "#classic blur\n",
    "k_size = 7 #7 neighborhood will be considered for averaging\n",
    "# Apply the blur using the defined kernel size (k_size x k_size)\n",
    "blur = cv2.blur(img, (k_size, k_size))  # Each pixel will be replaced with the average of its 7x7 neighbors\n",
    "cv2.imshow(\"Blur\",blur)\n",
    "cv2.waitKey(0)"
   ]
  },
  {
   "cell_type": "code",
   "execution_count": 17,
   "id": "9dc374a7-f255-4b95-91ae-acf3e4a8afce",
   "metadata": {},
   "outputs": [
    {
     "data": {
      "text/plain": [
       "-1"
      ]
     },
     "execution_count": 17,
     "metadata": {},
     "output_type": "execute_result"
    }
   ],
   "source": [
    "k_size = 1 #[since average of 1 pixel will be same so no blur applied]\n",
    "blur = cv2.blur(img, (k_size, k_size)) #(img, (row,col))  # Each pixel will be replaced with the average of its 7x7 neighbors\n",
    "cv2.imshow(\"Blur\",blur)\n",
    "cv2.waitKey(0)"
   ]
  },
  {
   "cell_type": "code",
   "execution_count": 19,
   "id": "1a1281d0-f4f1-4403-9105-5c3475415505",
   "metadata": {},
   "outputs": [
    {
     "data": {
      "text/plain": [
       "-1"
      ]
     },
     "execution_count": 19,
     "metadata": {},
     "output_type": "execute_result"
    }
   ],
   "source": [
    "#Gaussian Blur\n",
    "k_size = 7\n",
    "img_gaussian_blur = cv2.GaussianBlur(img, (k_size, k_size),3) # standard deviation\n",
    "cv2.imshow(\"GaussianBlur\",img_gaussian_blur)\n",
    "cv2.waitKey(0)"
   ]
  },
  {
   "cell_type": "code",
   "execution_count": 17,
   "id": "18f41f0e-628e-4294-9d2d-17ef0e180017",
   "metadata": {},
   "outputs": [
    {
     "data": {
      "text/plain": [
       "-1"
      ]
     },
     "execution_count": 17,
     "metadata": {},
     "output_type": "execute_result"
    }
   ],
   "source": [
    "#Median Blur (for salt and peper image)\n",
    "k_size = 3\n",
    "img_gaussian_blur = cv2.medianBlur(img, k_size)\n",
    "cv2.imshow(\"Median Blur\",img_gaussian_blur)\n",
    "cv2.waitKey(0)"
   ]
  },
  {
   "cell_type": "code",
   "execution_count": null,
   "id": "bce28ccc-47de-4d6a-bc90-4e8dde233ff4",
   "metadata": {},
   "outputs": [],
   "source": []
  }
 ],
 "metadata": {
  "kernelspec": {
   "display_name": "Python 3 (ipykernel)",
   "language": "python",
   "name": "python3"
  },
  "language_info": {
   "codemirror_mode": {
    "name": "ipython",
    "version": 3
   },
   "file_extension": ".py",
   "mimetype": "text/x-python",
   "name": "python",
   "nbconvert_exporter": "python",
   "pygments_lexer": "ipython3",
   "version": "3.12.6"
  }
 },
 "nbformat": 4,
 "nbformat_minor": 5
}
