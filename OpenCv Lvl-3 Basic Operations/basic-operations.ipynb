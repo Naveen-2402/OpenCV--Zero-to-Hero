{
 "cells": [
  {
   "cell_type": "code",
   "execution_count": 1,
   "id": "b5618faa-cbaf-4989-9dda-becb764ae350",
   "metadata": {},
   "outputs": [],
   "source": [
    "import cv2"
   ]
  },
  {
   "cell_type": "code",
   "execution_count": 3,
   "id": "563c09e6-78ad-4eb8-bfb1-07ca6f896eea",
   "metadata": {},
   "outputs": [
    {
     "data": {
      "text/plain": [
       "-1"
      ]
     },
     "execution_count": 3,
     "metadata": {},
     "output_type": "execute_result"
    }
   ],
   "source": [
    "img = cv2.imread('1.jpg')\n",
    "\n",
    "cv2.imshow(\"Image\", img)\n",
    "cv2.waitKey(0)"
   ]
  },
  {
   "cell_type": "code",
   "execution_count": 51,
   "id": "36015f16-4515-4ab8-8c97-02d8e24c2256",
   "metadata": {},
   "outputs": [
    {
     "data": {
      "text/plain": [
       "(600, 600, 3)"
      ]
     },
     "execution_count": 51,
     "metadata": {},
     "output_type": "execute_result"
    }
   ],
   "source": [
    "img.shape"
   ]
  },
  {
   "cell_type": "code",
   "execution_count": 52,
   "id": "0a3f1ec2-9aad-4bb2-a09d-adbb972635ed",
   "metadata": {},
   "outputs": [
    {
     "data": {
      "text/plain": [
       "(300, 300, 3)"
      ]
     },
     "execution_count": 52,
     "metadata": {},
     "output_type": "execute_result"
    }
   ],
   "source": [
    "resized_img = cv2.resize(img, (300,300))   #width and height\n",
    "resized_img.shape"
   ]
  },
  {
   "cell_type": "code",
   "execution_count": 53,
   "id": "900cd4f3-c04f-47d9-88ef-f9b2ee10b368",
   "metadata": {},
   "outputs": [
    {
     "data": {
      "text/plain": [
       "-1"
      ]
     },
     "execution_count": 53,
     "metadata": {},
     "output_type": "execute_result"
    }
   ],
   "source": [
    "cv2.imshow(\"Image\", resized_img)\n",
    "cv2.waitKey(0)"
   ]
  },
  {
   "cell_type": "code",
   "execution_count": 54,
   "id": "15f7beab-3772-4038-8831-8ad64c2d51f4",
   "metadata": {},
   "outputs": [],
   "source": [
    "#crop"
   ]
  },
  {
   "cell_type": "code",
   "execution_count": 23,
   "id": "8aacdd7c-23cd-4bc4-806f-25bc4e319e32",
   "metadata": {},
   "outputs": [
    {
     "data": {
      "text/plain": [
       "(400, 400, 3)"
      ]
     },
     "execution_count": 23,
     "metadata": {},
     "output_type": "execute_result"
    }
   ],
   "source": [
    "img_cropped = img[100:500, 100:500]   #pixel in row from 100 to 500, column from 100 to 500\n",
    "img_cropped.shape"
   ]
  },
  {
   "cell_type": "code",
   "execution_count": 24,
   "id": "c8ffc4f1-59cb-4023-89e8-56eee44e15f3",
   "metadata": {},
   "outputs": [],
   "source": [
    "cv2.imshow(\"Image\", img_cropped)\n",
    "cv2.waitKey(0)\n",
    "cv2.destroyAllWindows()"
   ]
  },
  {
   "cell_type": "code",
   "execution_count": null,
   "id": "65d7d1e1-948b-47a4-9e08-b9a5a86e13ed",
   "metadata": {},
   "outputs": [],
   "source": []
  }
 ],
 "metadata": {
  "kernelspec": {
   "display_name": "Python 3 (ipykernel)",
   "language": "python",
   "name": "python3"
  },
  "language_info": {
   "codemirror_mode": {
    "name": "ipython",
    "version": 3
   },
   "file_extension": ".py",
   "mimetype": "text/x-python",
   "name": "python",
   "nbconvert_exporter": "python",
   "pygments_lexer": "ipython3",
   "version": "3.12.6"
  }
 },
 "nbformat": 4,
 "nbformat_minor": 5
}
