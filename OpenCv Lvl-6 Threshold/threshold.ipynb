{
 "cells": [
  {
   "cell_type": "code",
   "execution_count": 1,
   "id": "49359a58-a9e9-40d3-9582-a645931cb953",
   "metadata": {},
   "outputs": [],
   "source": [
    "import cv2"
   ]
  },
  {
   "cell_type": "code",
   "execution_count": null,
   "id": "254c28c0-cebf-4cc7-afba-73df40362010",
   "metadata": {},
   "outputs": [],
   "source": [
    "'''\n",
    "Thresholding is a technique used to separate an object from its background in an image. \n",
    "It works by converting pixel values to either black (0) or white (255) based on a defined threshold. \n",
    "Pixels below the threshold represent the background, while pixels above it represent the object, making it easier to analyze or process the image.\n",
    "'''"
   ]
  },
  {
   "cell_type": "code",
   "execution_count": null,
   "id": "845f4aa5-7473-4f7c-9e25-3c363391c8ca",
   "metadata": {},
   "outputs": [],
   "source": [
    "img = cv2.imread('1.jpg')\n",
    "cv2.imshow(\"Original Image\",img)\n",
    "cv2.waitKey(0)"
   ]
  },
  {
   "cell_type": "code",
   "execution_count": 4,
   "id": "e947f075-bb8a-4678-bdfd-7ce9ea51dedf",
   "metadata": {},
   "outputs": [],
   "source": [
    "gray_img = cv2.cvtColor(img, cv2.COLOR_BGR2GRAY)"
   ]
  },
  {
   "cell_type": "code",
   "execution_count": null,
   "id": "78dd7993-ad3a-4423-81eb-5a44ebb728ae",
   "metadata": {},
   "outputs": [],
   "source": [
    "#Global Thresold\n",
    "\n",
    "success, binary_threshold = cv2.threshold(img, 64, 255, cv2.THRESH_BINARY) # Pixels with values <= 64 are set to 0 (black), and > 64 are set to 255 (white)\n",
    "# in colo rimage each channel is thersolded and appear in different color\n",
    "cv2.imshow(\"Global Threshold\",binary_threshold)\n",
    "cv2.waitKey(0)"
   ]
  },
  {
   "cell_type": "code",
   "execution_count": null,
   "id": "a9dd85e6-70a7-4f2c-989f-3eac286adbc7",
   "metadata": {},
   "outputs": [],
   "source": [
    "#Global Thresold\n",
    "\n",
    "success, binary_threshold = cv2.threshold(gray_img, 70, 255, cv2.THRESH_BINARY) # pixel below 70 will converted to 0 (black) and above will be 255 (white)\n",
    "cv2.imshow(\"Global Threshold\",binary_threshold)\n",
    "cv2.waitKey(0)"
   ]
  },
  {
   "cell_type": "code",
   "execution_count": null,
   "id": "99549ffa-1fcb-443e-9a26-6a63ea2ac386",
   "metadata": {},
   "outputs": [],
   "source": [
    "#Adaptive thresold\n",
    "\n",
    "img = cv2.imread('2.jpg')\n",
    "cv2.imshow(\"Original Image\",img)\n",
    "cv2.waitKey(0)\n",
    "gray_img = cv2.cvtColor(img, cv2.COLOR_BGR2GRAY)\n",
    "cv2.imshow(\"Grey Image\",gray_img)\n",
    "cv2.waitKey(0)"
   ]
  },
  {
   "cell_type": "code",
   "execution_count": null,
   "id": "f03a08d4-0038-40ad-8702-50b4a85150bd",
   "metadata": {},
   "outputs": [],
   "source": [
    "#Result of Global Thresold for multiple colour image\n",
    "\n",
    "success, binary_threshold = cv2.threshold(gray_img, 64, 255, cv2.THRESH_BINARY) # pixel below 70 will converted to 0 (black) and above will be 255 (white)\n",
    "cv2.imshow(\"Global Threshold\",binary_threshold)\n",
    "cv2.waitKey(0)"
   ]
  },
  {
   "cell_type": "code",
   "execution_count": null,
   "id": "46d95c78-a6a8-4e06-b40d-59567649d26e",
   "metadata": {},
   "outputs": [],
   "source": [
    "gaussian_threshold = cv2.adaptiveThreshold(gray_img, 255,cv2.ADAPTIVE_THRESH_GAUSSIAN_C ,cv2.THRESH_BINARY,13 ,9) # lesser block size more detail, higher offset fewer feature visible\n",
    "cv2.imshow(\"Gaussian Threshold\",gaussian_threshold)\n",
    "cv2.waitKey(0)"
   ]
  },
  {
   "cell_type": "code",
   "execution_count": null,
   "id": "bd92eabd-33ee-4c5c-8573-b5b27d5ad23a",
   "metadata": {},
   "outputs": [],
   "source": [
    "mean_threshold = cv2.adaptiveThreshold(gray_img, 255,cv2.ADAPTIVE_THRESH_MEAN_C ,cv2.THRESH_BINARY,11 ,11) # lesser block size more detail, higher offset fewer feature visible\n",
    "cv2.imshow(\"Mean Threshold\",mean_threshold)\n",
    "cv2.waitKey(0)"
   ]
  },
  {
   "cell_type": "code",
   "execution_count": null,
   "id": "14cac064-b289-403d-b307-da6688a21b4a",
   "metadata": {},
   "outputs": [],
   "source": []
  }
 ],
 "metadata": {
  "kernelspec": {
   "display_name": "Python 3 (ipykernel)",
   "language": "python",
   "name": "python3"
  },
  "language_info": {
   "codemirror_mode": {
    "name": "ipython",
    "version": 3
   },
   "file_extension": ".py",
   "mimetype": "text/x-python",
   "name": "python",
   "nbconvert_exporter": "python",
   "pygments_lexer": "ipython3",
   "version": "3.12.6"
  }
 },
 "nbformat": 4,
 "nbformat_minor": 5
}
