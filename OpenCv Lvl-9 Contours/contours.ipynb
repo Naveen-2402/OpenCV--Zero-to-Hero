{
 "cells": [
  {
   "cell_type": "code",
   "execution_count": 31,
   "id": "763cfea4-1718-4319-80e1-4374864a79c0",
   "metadata": {},
   "outputs": [],
   "source": [
    "import cv2"
   ]
  },
  {
   "cell_type": "code",
   "execution_count": 62,
   "id": "5f63b8bf-6631-485d-9d17-0fed950be898",
   "metadata": {},
   "outputs": [],
   "source": [
    "img = cv2.imread('2.jpg')\n",
    "\n",
    "cv2.imshow(\"Original Image\", img)\n",
    "cv2.waitKey(0)\n",
    "\n",
    "gray_img = cv2.cvtColor(img, cv2.COLOR_BGR2GRAY)"
   ]
  },
  {
   "cell_type": "code",
   "execution_count": 74,
   "id": "77f1a1c4-60bc-40e8-9074-2855cdfe8be9",
   "metadata": {},
   "outputs": [
    {
     "data": {
      "text/plain": [
       "-1"
      ]
     },
     "execution_count": 74,
     "metadata": {},
     "output_type": "execute_result"
    }
   ],
   "source": [
    "#Threshold\n",
    "success, threshold_img = cv2.threshold(gray_img, 64, 255, cv2.THRESH_BINARY)\n",
    "#success, threshold_img = cv2.threshold(gray_img, 64, 255, cv2.THRESH_BINARY_INV)  # INV => Inverse Threshold\n",
    "cv2.imshow(\"Threshold Image\", threshold_img)\n",
    "cv2.waitKey(0)"
   ]
  },
  {
   "cell_type": "code",
   "execution_count": 75,
   "id": "958d4c17-b617-4960-87c0-80d5835e52d7",
   "metadata": {},
   "outputs": [],
   "source": [
    "#Contours\n",
    "\"\"\"\n",
    "Boarders of all isolated regions (objects) in image\n",
    "\"\"\"\n",
    "contours, hierarchy = cv2.findContours(threshold_img, cv2.RETR_TREE, cv2.CHAIN_APPROX_SIMPLE)\n",
    "\n",
    "for cnt in contours:\n",
    "    if cv2.contourArea(cnt) > 150:   # cv2.contourArea(cnt) -> pixel size of the object [lower pixel will be noise]\n",
    "        cv2.drawContours(img, cnt, -1, (0,0,255) ,2)\n",
    "        #cv2.drawContours(img, (x,y), -1 (plot all x and y points) , color code, thickness)\n",
    "        #print(cv2.contourArea(cnt))\n",
    "        #print(cnt)"
   ]
  },
  {
   "cell_type": "code",
   "execution_count": 76,
   "id": "5c5fe2c8-4c16-42b3-9798-31dd72e67f7f",
   "metadata": {},
   "outputs": [],
   "source": [
    "cv2.imshow(\"Contours on Original Image\", img)\n",
    "cv2.waitKey(0)\n",
    "\n",
    "img = cv2.imread('2.jpg')    # Reload the image"
   ]
  },
  {
   "cell_type": "code",
   "execution_count": null,
   "id": "c7feedd2-1f19-4068-a345-8deedabab01a",
   "metadata": {},
   "outputs": [],
   "source": []
  }
 ],
 "metadata": {
  "kernelspec": {
   "display_name": "Python 3 (ipykernel)",
   "language": "python",
   "name": "python3"
  },
  "language_info": {
   "codemirror_mode": {
    "name": "ipython",
    "version": 3
   },
   "file_extension": ".py",
   "mimetype": "text/x-python",
   "name": "python",
   "nbconvert_exporter": "python",
   "pygments_lexer": "ipython3",
   "version": "3.12.6"
  }
 },
 "nbformat": 4,
 "nbformat_minor": 5
}
