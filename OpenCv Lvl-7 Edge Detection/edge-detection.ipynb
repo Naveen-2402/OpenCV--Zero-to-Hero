{
 "cells": [
  {
   "cell_type": "code",
   "execution_count": 54,
   "id": "93411679-55b1-4bfc-b308-3013ca55e723",
   "metadata": {},
   "outputs": [],
   "source": [
    "import cv2\n",
    "import numpy as np"
   ]
  },
  {
   "cell_type": "code",
   "execution_count": null,
   "id": "9c10d81c-8258-41dd-a038-e7cfc8372a1b",
   "metadata": {},
   "outputs": [],
   "source": [
    "img = cv2.imread('2.jpg')\n",
    "\n",
    "cv2.imshow(\"Original Image\",img)\n",
    "cv2.waitKey(0)"
   ]
  },
  {
   "cell_type": "code",
   "execution_count": null,
   "id": "61364d5b-5c9f-4606-b5ff-1f783fa53767",
   "metadata": {},
   "outputs": [],
   "source": [
    "#Edge using canny\n",
    "img_edge = cv2.Canny(img, 100, 200)    #lower threshold and upper threshold\n",
    "\"\"\"\n",
    "Pixels with gradients above 200 are considered strong edges.\n",
    "Pixels with gradients between 100 and 200 are considered weak edges, and will be included only if connected to a strong edge.\n",
    "\"\"\"\n",
    "\n",
    "cv2.imshow(\"Image Edge\",img_edge)\n",
    "cv2.waitKey(0)"
   ]
  },
  {
   "cell_type": "code",
   "execution_count": null,
   "id": "afc092fd-06cc-4770-949e-bf86811fa458",
   "metadata": {},
   "outputs": [],
   "source": [
    "#Dilate\n",
    "img_edge_d = cv2.dilate(img_edge, np.ones((3, 3), dtype=np.int8))   # Dilation is a morphological operation that expands the white regions in a binary image, making edges thicker. The 3x3 kernel defines the area to consider for expansion.\n",
    "\n",
    "cv2.imshow(\"Image Edge dilate\",img_edge_d)\n",
    "cv2.waitKey(0)"
   ]
  },
  {
   "cell_type": "code",
   "execution_count": null,
   "id": "8637ed20-6ae6-450e-b886-7659e68b9503",
   "metadata": {},
   "outputs": [],
   "source": [
    "#Erode\n",
    "img_edge_e = cv2.erode(img_edge_d, np.ones((3, 3), dtype=np.int8))   # Erosion is a morphological operation that shrinks the white regions in a binary image, reducing the thickness of edges. The 3x3 kernel defines the area to consider for shrinking.\n",
    "\n",
    "cv2.imshow(\"Image Edge erode\",img_edge_e)\n",
    "cv2.waitKey(0)"
   ]
  },
  {
   "cell_type": "code",
   "execution_count": null,
   "id": "df56cc74-62bd-401e-a8ad-6075baa774ed",
   "metadata": {},
   "outputs": [],
   "source": []
  }
 ],
 "metadata": {
  "kernelspec": {
   "display_name": "Python 3 (ipykernel)",
   "language": "python",
   "name": "python3"
  },
  "language_info": {
   "codemirror_mode": {
    "name": "ipython",
    "version": 3
   },
   "file_extension": ".py",
   "mimetype": "text/x-python",
   "name": "python",
   "nbconvert_exporter": "python",
   "pygments_lexer": "ipython3",
   "version": "3.12.6"
  }
 },
 "nbformat": 4,
 "nbformat_minor": 5
}
