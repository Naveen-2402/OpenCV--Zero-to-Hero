{
 "cells": [
  {
   "cell_type": "code",
   "execution_count": 2,
   "id": "cf6660fe-0eb8-43a6-84f3-945d4574471b",
   "metadata": {},
   "outputs": [],
   "source": [
    "import cv2"
   ]
  },
  {
   "cell_type": "code",
   "execution_count": 3,
   "id": "64d4bd52-a17e-4514-b3f9-7fca847eed25",
   "metadata": {},
   "outputs": [
    {
     "data": {
      "text/plain": [
       "(417, 626, 3)"
      ]
     },
     "execution_count": 3,
     "metadata": {},
     "output_type": "execute_result"
    }
   ],
   "source": [
    "img = cv2.imread(\"1.png\")\n",
    "img.shape"
   ]
  },
  {
   "cell_type": "code",
   "execution_count": 17,
   "id": "8ad0274a-4931-4039-a36a-d37cce357b7e",
   "metadata": {},
   "outputs": [
    {
     "data": {
      "text/plain": [
       "-1"
      ]
     },
     "execution_count": 17,
     "metadata": {},
     "output_type": "execute_result"
    }
   ],
   "source": [
    "#Line\n",
    "\n",
    "img = cv2.imread(\"1.png\")\n",
    "\n",
    "cv2.line(img, (100,300), (200,300), (0, 255, 0), 3)\n",
    "\n",
    "\"\"\"\n",
    "img: The image on which the line is drawn.\n",
    "(100, 300): Starting point of the line, given as (x, y) coordinates.\n",
    "(200, 300): Ending point of the line, also as (x, y) coordinates.\n",
    "(0, 255, 0): Color of the line in BGR format. Here, it's green.\n",
    "3: Thickness of the line in pixels.\n",
    "\"\"\"\n",
    "cv2.imshow(\"Line Image\",img)\n",
    "cv2.waitKey(0)"
   ]
  },
  {
   "cell_type": "code",
   "execution_count": 4,
   "id": "8bb5f0de-c01c-4883-ae2c-bf68461e657e",
   "metadata": {},
   "outputs": [
    {
     "data": {
      "text/plain": [
       "-1"
      ]
     },
     "execution_count": 4,
     "metadata": {},
     "output_type": "execute_result"
    }
   ],
   "source": [
    "#Rectangle\n",
    "img = cv2.imread(\"1.png\")\n",
    "\n",
    "cv2.rectangle(img, (100, 200), (300,300), (0,0,255), 2)\n",
    "# cv2.rectangle(img, (minimum point of x, min y), (max x,max y), (color code), thickness)\n",
    "cv2.imshow(\"Line Image\",img)\n",
    "cv2.waitKey(0)"
   ]
  },
  {
   "cell_type": "code",
   "execution_count": 5,
   "id": "445e9dd1-4b56-4d01-8329-353acbcc9eeb",
   "metadata": {},
   "outputs": [
    {
     "data": {
      "text/plain": [
       "-1"
      ]
     },
     "execution_count": 5,
     "metadata": {},
     "output_type": "execute_result"
    }
   ],
   "source": [
    "#Rectangle\n",
    "img = cv2.imread(\"1.png\")\n",
    "\n",
    "cv2.rectangle(img, (100, 200), (300,300), (0,0,255), -1)\n",
    "# cv2.rectangle(img, (minimum point of x, min y), (max x,max y), (color code), thickness)\n",
    "cv2.imshow(\"Line Image\",img)\n",
    "cv2.waitKey(0)"
   ]
  },
  {
   "cell_type": "code",
   "execution_count": 29,
   "id": "f5d2cd89-372c-4737-97c7-248d87470ebc",
   "metadata": {},
   "outputs": [
    {
     "data": {
      "text/plain": [
       "-1"
      ]
     },
     "execution_count": 29,
     "metadata": {},
     "output_type": "execute_result"
    }
   ],
   "source": [
    "#Circle\n",
    "img = cv2.imread(\"1.png\")\n",
    "\n",
    "cv2.circle(img, (300, 200), 150,(255,0,0), 3)\n",
    "# cv2.rectangle(img, (orgin x, origin y), radius, (color code), thickness)\n",
    "cv2.imshow(\"Line Image\",img)\n",
    "cv2.waitKey(0)"
   ]
  },
  {
   "cell_type": "code",
   "execution_count": 45,
   "id": "528b514a-a4df-4f94-8332-fa94556da51e",
   "metadata": {},
   "outputs": [
    {
     "data": {
      "text/plain": [
       "-1"
      ]
     },
     "execution_count": 45,
     "metadata": {},
     "output_type": "execute_result"
    }
   ],
   "source": [
    "#Text\n",
    "img = cv2.imread(\"1.png\")\n",
    "\n",
    "name = 'Ishq Hai'\n",
    "cv2.putText(img, f'Hey {name}',(0, 60), cv2.FONT_HERSHEY_SIMPLEX, 1, (255,0,0), 2)\n",
    "# cv2.putText(image, text, orgin, font Style, font Size, color, thickness)\n",
    "cv2.imshow(\"Line Image\",img)\n",
    "cv2.waitKey(0)"
   ]
  },
  {
   "cell_type": "code",
   "execution_count": null,
   "id": "54c13289-185d-4c79-8d97-61a7d545bc7d",
   "metadata": {},
   "outputs": [],
   "source": []
  }
 ],
 "metadata": {
  "kernelspec": {
   "display_name": "Python 3 (ipykernel)",
   "language": "python",
   "name": "python3"
  },
  "language_info": {
   "codemirror_mode": {
    "name": "ipython",
    "version": 3
   },
   "file_extension": ".py",
   "mimetype": "text/x-python",
   "name": "python",
   "nbconvert_exporter": "python",
   "pygments_lexer": "ipython3",
   "version": "3.12.6"
  }
 },
 "nbformat": 4,
 "nbformat_minor": 5
}
